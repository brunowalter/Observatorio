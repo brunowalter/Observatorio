{
 "cells": [
  {
   "cell_type": "markdown",
   "id": "composed-chase",
   "metadata": {},
   "source": [
    "# Bibioltecas"
   ]
  },
  {
   "cell_type": "code",
   "execution_count": null,
   "id": "certified-paris",
   "metadata": {},
   "outputs": [],
   "source": [
    "import pandas as pd\n",
    "from datetime import datetime\n",
    "import plotly.express as px\n",
    "import chart_studio.plotly as py\n",
    "#pd.set_option(\"max_rows\", None)"
   ]
  },
  {
   "cell_type": "markdown",
   "id": "dynamic-kazakhstan",
   "metadata": {},
   "source": [
    "# Fator Complementar - Abrangência"
   ]
  },
  {
   "cell_type": "code",
   "execution_count": null,
   "id": "minute-antigua",
   "metadata": {},
   "outputs": [],
   "source": [
    "# Data de hoje\n",
    "today = datetime.today()\n",
    "d = today.strftime(\"%Y%m%d\")\n",
    "data_atual = str(d)\n",
    "\n",
    "# Importar dados csv de SG\n",
    "fator_complementar = pd.read_csv(f'./dados/csv/sg-{data_atual}', sep=';')"
   ]
  },
  {
   "cell_type": "code",
   "execution_count": null,
   "id": "awful-snake",
   "metadata": {},
   "outputs": [],
   "source": [
    "fator_complementar"
   ]
  },
  {
   "cell_type": "code",
   "execution_count": null,
   "id": "excited-amateur",
   "metadata": {},
   "outputs": [],
   "source": [
    "fator_complementar['PCR_RESUL'].unique()"
   ]
  },
  {
   "cell_type": "code",
   "execution_count": null,
   "id": "married-railway",
   "metadata": {},
   "outputs": [],
   "source": [
    "# Criar dataframe com todas as datas do último ano\n",
    "ano = pd.Series(pd.date_range(end=data_atual, periods=365, freq='D', name=\"DT_NOTIFIC\"))\n",
    "abrangencia = ano.to_frame()"
   ]
  },
  {
   "cell_type": "code",
   "execution_count": null,
   "id": "apart-commons",
   "metadata": {},
   "outputs": [],
   "source": [
    "abrangencia['REALIZADO'] = 0\n",
    "abrangencia['NAO_REALIZADO'] = 0\n",
    "abrangencia['NAO_REALIZADO'] = abrangencia['NAO_REALIZADO'].astype(int)\n",
    "abrangencia['REALIZADO'] = abrangencia['REALIZADO'].astype(int)\n",
    "abrangencia['DT_NOTIFIC'] = pd.to_datetime(abrangencia['DT_NOTIFIC']).dt.date\n",
    "abrangencia.set_index('DT_NOTIFIC', inplace = True)"
   ]
  },
  {
   "cell_type": "code",
   "execution_count": null,
   "id": "vocational-terrace",
   "metadata": {},
   "outputs": [],
   "source": [
    "abrangencia"
   ]
  },
  {
   "cell_type": "code",
   "execution_count": null,
   "id": "conceptual-luther",
   "metadata": {},
   "outputs": [],
   "source": [
    "# RT-PCR NAO REALIZADO - Ou seja, foi realizado outro tipo de testagem\n",
    "filtrados = fator_complementar['PCR_RESUL']==4\n",
    "nao_realizado = fator_complementar[filtrados]\n",
    "nao_realizado = nao_realizado.groupby('DT_NOTIFIC').sum()/4\n",
    "\n",
    "nao_realizado.rename(columns={'PCR_RESUL': 'NAO_REALIZADO'}, inplace = True)\n",
    "nao_realizado['NAO_REALIZADO'] = nao_realizado['NAO_REALIZADO'].astype(int)\n",
    "#nao_realizado = nao_realizado.reset_index()"
   ]
  },
  {
   "cell_type": "code",
   "execution_count": null,
   "id": "supported-stuart",
   "metadata": {},
   "outputs": [],
   "source": [
    "nao_realizado"
   ]
  },
  {
   "cell_type": "code",
   "execution_count": null,
   "id": "demonstrated-soccer",
   "metadata": {},
   "outputs": [],
   "source": [
    "# RT-PCR REALIZADO\n",
    "filtrados = fator_complementar['PCR_RESUL']!=4\n",
    "realizado = fator_complementar[filtrados]\n",
    "# Transformando diferentes resutlados de teste realizado em 1 para somar depois\n",
    "realizado['PCR_RESUL'] = realizado['PCR_RESUL'].map({1:1, 2:1,3:1,5:1})\n",
    "# Agrupando por data e somando casos negativos\n",
    "realizado = realizado.groupby('DT_NOTIFIC').sum()\n",
    "realizado.rename(columns={'PCR_RESUL': 'REALIZADO'}, inplace = True)\n",
    "#realizado = realizado.reset_index()\n",
    "realizado"
   ]
  },
  {
   "cell_type": "code",
   "execution_count": null,
   "id": "apparent-nepal",
   "metadata": {
    "scrolled": true
   },
   "outputs": [],
   "source": [
    "realizado['REALIZADO'].sum()"
   ]
  },
  {
   "cell_type": "code",
   "execution_count": null,
   "id": "numeric-dining",
   "metadata": {},
   "outputs": [],
   "source": [
    "# Juntando realizados e nao realizados\n",
    "abrangencia = pd.concat([abrangencia, realizado, nao_realizado])"
   ]
  },
  {
   "cell_type": "code",
   "execution_count": null,
   "id": "suspended-mailing",
   "metadata": {},
   "outputs": [],
   "source": [
    "# Agrupando por data\n",
    "abrangencia = abrangencia.groupby('DT_NOTIFIC').sum()"
   ]
  },
  {
   "cell_type": "code",
   "execution_count": null,
   "id": "timely-eagle",
   "metadata": {},
   "outputs": [],
   "source": [
    "abrangencia"
   ]
  },
  {
   "cell_type": "code",
   "execution_count": null,
   "id": "tropical-addiction",
   "metadata": {},
   "outputs": [],
   "source": [
    "#  Segundo o documento da FIOCRUZ abaixo, é  'importante ter uma cobertura de testes para no mínimo 80% da população com Síndrome Gripal.''\n",
    "# No caso, estamos calculando 80% apenas para SG\n",
    "# https://portal.fiocruz.br/sites/portal.fiocruz.br/files/documentos/contribuicoes_para_o_retorno_escolar_17122020.pdf"
   ]
  },
  {
   "cell_type": "code",
   "execution_count": null,
   "id": "coated-score",
   "metadata": {},
   "outputs": [],
   "source": [
    "# Acumulativo dos últimos 7 dias\n",
    "rolling = abrangencia.rolling(window=7).sum()"
   ]
  },
  {
   "cell_type": "code",
   "execution_count": null,
   "id": "thermal-postcard",
   "metadata": {},
   "outputs": [],
   "source": [
    "# Porcentagem média movel 7 dias\n",
    "rolling['PORCENTAGEM MEDIA MOVEL 7 DIAS'] = rolling['REALIZADO']*100/(rolling['REALIZADO'] + rolling['NAO_REALIZADO'])"
   ]
  },
  {
   "cell_type": "code",
   "execution_count": null,
   "id": "rural-knitting",
   "metadata": {},
   "outputs": [],
   "source": [
    "rolling"
   ]
  },
  {
   "cell_type": "code",
   "execution_count": null,
   "id": "further-committee",
   "metadata": {},
   "outputs": [],
   "source": [
    "rolling.to_csv(f'./dados/csv/fator-abrangencia-{data_atual}', sep=';')"
   ]
  },
  {
   "cell_type": "code",
   "execution_count": null,
   "id": "viral-question",
   "metadata": {},
   "outputs": [],
   "source": [
    "abrangencia = pd.read_csv(f'./dados/csv/fator-abrangencia-{data_atual}', sep=';')"
   ]
  },
  {
   "cell_type": "code",
   "execution_count": null,
   "id": "compact-drive",
   "metadata": {},
   "outputs": [],
   "source": [
    "abrangencia = abrangencia[['DT_NOTIFIC','PORCENTAGEM MEDIA MOVEL 7 DIAS']]"
   ]
  },
  {
   "cell_type": "code",
   "execution_count": null,
   "id": "familiar-defendant",
   "metadata": {},
   "outputs": [],
   "source": [
    "abrangencia"
   ]
  },
  {
   "cell_type": "code",
   "execution_count": null,
   "id": "inclusive-kelly",
   "metadata": {},
   "outputs": [],
   "source": [
    "# Retirar avalores NaN e colocar o campo \"PORCENTAGEM MEDIA MOVEL 7 DIAS\" como inteiro\n",
    "abrangencia = abrangencia.dropna()\n",
    "abrangencia[\"PORCENTAGEM MEDIA MOVEL 7 DIAS\"] = abrangencia[\"PORCENTAGEM MEDIA MOVEL 7 DIAS\"].astype(int)\n",
    "abrangencia = abrangencia.rename(columns={'DT_NOTIFIC': 'Data','PORCENTAGEM MEDIA MOVEL 7 DIAS':'Abrangencia'})"
   ]
  },
  {
   "cell_type": "code",
   "execution_count": null,
   "id": "certified-builder",
   "metadata": {},
   "outputs": [],
   "source": [
    "abrangencia"
   ]
  },
  {
   "cell_type": "code",
   "execution_count": null,
   "id": "significant-lodging",
   "metadata": {},
   "outputs": [],
   "source": [
    "abrangencia = abrangencia.tail(365).reset_index(drop=True)\n",
    "abrangencia"
   ]
  },
  {
   "cell_type": "code",
   "execution_count": null,
   "id": "objective-instruction",
   "metadata": {},
   "outputs": [],
   "source": [
    "hoje = today.strftime(\"%d-%m-%Y\")\n",
    "\n",
    "fig = px.line(abrangencia, x=\"Data\", y=\"Abrangencia\", title=f'Abrangência de testes RT-PCR realizados em casos de Síndrome Gripal (média móvel de 7 dias) - Atualizado em {hoje}', labels=dict(Porcentagem=\"Porcentagem\",Data=\"\" ))\n",
    "\n",
    "fig.add_hrect(y0=80, y1=100, line_width=0, fillcolor=\"green\", opacity=0.2)\n",
    "fig.add_hrect(y0=0, y1=80, line_width=0, fillcolor=\"red\", opacity=0.2)\n",
    "\n",
    "\n",
    "\n",
    "fig.update_yaxes(range=[0,100], fixedrange= True) # linear range\n",
    "fig.update_xaxes(fixedrange= True)\n",
    "\n",
    "fig.show()\n",
    "fig.write_html(\"indicador-2.html\")\n",
    "\n",
    "\n",
    "py.sign_in(usuario, senha)\n",
    "plot_url = py.plot(fig)"
   ]
  },
  {
   "cell_type": "code",
   "execution_count": null,
   "id": "medium-liabilities",
   "metadata": {},
   "outputs": [],
   "source": []
  }
 ],
 "metadata": {
  "kernelspec": {
   "display_name": "Python 3",
   "language": "python",
   "name": "python3"
  },
  "language_info": {
   "codemirror_mode": {
    "name": "ipython",
    "version": 3
   },
   "file_extension": ".py",
   "mimetype": "text/x-python",
   "name": "python",
   "nbconvert_exporter": "python",
   "pygments_lexer": "ipython3",
   "version": "3.9.1"
  }
 },
 "nbformat": 4,
 "nbformat_minor": 5
}
